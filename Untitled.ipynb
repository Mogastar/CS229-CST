{
 "cells": [
  {
   "cell_type": "code",
   "execution_count": null,
   "metadata": {
    "collapsed": false
   },
   "outputs": [],
   "source": [
    "import numpy as np\n",
    "import os\n",
    "import pandas as pd\n",
    "import sklearn as sk\n",
    "import matplotlib.pyplot as plt\n",
    "\n",
    "\n",
    "# Define directories\n",
    "pydir = os.path.join(os.getcwd(), 'Datasets/pythonquestions/')\n",
    "rdir = os.path.join(os.getcwd(), 'Datasets/rquestions/')\n",
    "\n",
    "\n",
    "def load_data(dir):\n",
    "    '''Load the data.'''\n",
    "    \n",
    "    # File names\n",
    "    answers_file = os.path.join(dir, 'Answers.csv')\n",
    "    questions_file = os.path.join(dir, 'Questions.csv')\n",
    "    tags_file = os.path.join(dir, 'Tags.csv')\n",
    "    \n",
    "    # Load data\n",
    "    answers = pd.read_csv(answers_file)\n",
    "    questions = pd.read_csv(questions_file)\n",
    "    tags = pd.read_csv(tags_file)\n",
    "    \n",
    "    # Convert OwnerUserId to int64 and fill NAs with -1\n",
    "    answers.OwnerUserId = answers.OwnerUserId.fillna(-1.0).astype('int64')\n",
    "    questions.OwnerUserId = questions.OwnerUserId.fillna(-1.0).astype('int64')\n",
    "    \n",
    "    return (answers, questions, tags)\n",
    "\n",
    "    '''Do all of our shit.'''\n",
    "\n",
    "    # Load data\n",
    "pyanswers, pyquestions, pytags = load_data(pydir)\n",
    "ranswers, rquestions, rtags = load_data(rdir)    "
   ]
  },
  {
   "cell_type": "code",
   "execution_count": null,
   "metadata": {
    "collapsed": false
   },
   "outputs": [],
   "source": [
    "pyanswers.head()"
   ]
  },
  {
   "cell_type": "code",
   "execution_count": null,
   "metadata": {
    "collapsed": false
   },
   "outputs": [],
   "source": [
    "pyquestions.head()"
   ]
  },
  {
   "cell_type": "code",
   "execution_count": null,
   "metadata": {
    "collapsed": false
   },
   "outputs": [],
   "source": [
    "pyanswers['CreationDate']=pd.to_datetime(pyanswers['CreationDate'])\n",
    "pyquestions['CreationDate']=pd.to_datetime(pyquestions['CreationDate'])\n",
    "\n",
    "def count_fx(s):\n",
    "    return s.count('href')\n",
    "\n",
    "py_joined = pyanswers.set_index('ParentId').join(pyquestions.set_index('Id'),lsuffix='_answers',rsuffix='_questions')\n",
    "py_joined = py_joined.reset_index()\n",
    "py_joined = py_joined.rename(columns={'index': 'Q_Id'})\n",
    "py_joined['delta_t'] = py_joined['CreationDate_answers']-py_joined['CreationDate_questions']\n",
    "py_joined['answer_length']=[len(i) for i in py_joined['Body_answers']]\n",
    "py_joined['question_length']=[len(i) for i in py_joined['Body_questions']]\n",
    "py_joined['answer_length_standardized']=py_joined['answer_length']/py_joined['question_length']\n",
    "py_joined['number_of_links'] = py_joined['Body_answers'].apply(count_fx)\n",
    "py_joined['score_standardized'] = [float(py_joined['Score_answers'][i])/max(1.0,\n",
    "                                py_joined['Score_questions'][i]) for i in range(len(py_joined))]\n",
    "py_joined.head()"
   ]
  },
  {
   "cell_type": "code",
   "execution_count": null,
   "metadata": {
    "collapsed": false
   },
   "outputs": [],
   "source": [
    "pyquestions2=pyquestions.set_index('Id')\n",
    "pyquestions2['TopAnswer']=np.zeros(len(pyquestions2))\n",
    "pyquestions2['TopAnswerScore']=np.zeros(len(pyquestions2))\n",
    "py_joined['IsBest']=np.zeros(len(py_joined))\n",
    "for i in range(len(py_joined)):\n",
    "    Idx = py_joined['Q_Id'][i]\n",
    "    if py_joined['Score_answers'][i]>pyquestions2['TopAnswerScore'][Idx]:\n",
    "        pyquestions2['TopAnswerScore'][Idx] = py_joined['Score_answers'][i]\n",
    "        pyquestions2['TopAnswer'][Idx] = py_joined['Id'][i]\n",
    "for i in range(len(pyanswers)):\n",
    "    if (pyquestions2['TopAnswer'] == py_joined['Id'][i]).any():\n",
    "        py_joined['IsBest'][i] = 1.0\n",
    "    else:\n",
    "        py_joined['IsBest'][i] = 0.0"
   ]
  },
  {
   "cell_type": "code",
   "execution_count": null,
   "metadata": {
    "collapsed": false
   },
   "outputs": [],
   "source": [
    "pyquestions.head()"
   ]
  },
  {
   "cell_type": "code",
   "execution_count": null,
   "metadata": {
    "collapsed": true
   },
   "outputs": [],
   "source": [
    "py_joined['IsBest'][0]"
   ]
  },
  {
   "cell_type": "code",
   "execution_count": null,
   "metadata": {
    "collapsed": false
   },
   "outputs": [],
   "source": [
    "pyquestions.head()"
   ]
  },
  {
   "cell_type": "code",
   "execution_count": null,
   "metadata": {
    "collapsed": false
   },
   "outputs": [],
   "source": [
    "plt.hist(np.log(py_joined['answer_length_standardized']),bins=50)\n",
    "plt.show()"
   ]
  },
  {
   "cell_type": "code",
   "execution_count": null,
   "metadata": {
    "collapsed": false
   },
   "outputs": [],
   "source": [
    "plt.hist(py_joined['score_standardized'],bins=50,)\n",
    "plt.show()"
   ]
  },
  {
   "cell_type": "code",
   "execution_count": null,
   "metadata": {
    "collapsed": false
   },
   "outputs": [],
   "source": [
    "plt.scatter(py_joined['answer_length_standardized'],py_joined['score_standardized'])\n",
    "plt.show()"
   ]
  },
  {
   "cell_type": "code",
   "execution_count": null,
   "metadata": {
    "collapsed": false
   },
   "outputs": [],
   "source": [
    "plt.scatter(py_joined['answer_length_standardized'],np.log(py_joined['score_standardized']))\n",
    "plt.show()"
   ]
  },
  {
   "cell_type": "code",
   "execution_count": null,
   "metadata": {
    "collapsed": false
   },
   "outputs": [],
   "source": [
    "plt.scatter(np.log(py_joined['answer_length_standardized']),py_joined['score_standardized'])\n",
    "plt.show()"
   ]
  },
  {
   "cell_type": "code",
   "execution_count": null,
   "metadata": {
    "collapsed": false
   },
   "outputs": [],
   "source": [
    "pyanswers=pyanswers[:][0:50]\n",
    "pyanswers"
   ]
  },
  {
   "cell_type": "code",
   "execution_count": null,
   "metadata": {
    "collapsed": true
   },
   "outputs": [],
   "source": []
  }
 ],
 "metadata": {
  "kernelspec": {
   "display_name": "Python (py27)",
   "language": "python",
   "name": "py27"
  },
  "language_info": {
   "codemirror_mode": {
    "name": "ipython",
    "version": 2
   },
   "file_extension": ".py",
   "mimetype": "text/x-python",
   "name": "python",
   "nbconvert_exporter": "python",
   "pygments_lexer": "ipython2",
   "version": "2.7.8"
  }
 },
 "nbformat": 4,
 "nbformat_minor": 2
}
